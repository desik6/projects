{
  "nbformat": 4,
  "nbformat_minor": 0,
  "metadata": {
    "colab": {
      "name": "Random_number_generator.ipynb",
      "provenance": [],
      "authorship_tag": "ABX9TyNvEeKPMlyH7B1YNgOSaAN5",
      "include_colab_link": true
    },
    "kernelspec": {
      "name": "python3",
      "display_name": "Python 3"
    },
    "language_info": {
      "name": "python"
    }
  },
  "cells": [
    {
      "cell_type": "markdown",
      "metadata": {
        "id": "view-in-github",
        "colab_type": "text"
      },
      "source": [
        "<a href=\"https://colab.research.google.com/github/desik6/projects/blob/main/Random_number_generator.ipynb\" target=\"_parent\"><img src=\"https://colab.research.google.com/assets/colab-badge.svg\" alt=\"Open In Colab\"/></a>"
      ]
    },
    {
      "cell_type": "markdown",
      "source": [
        "In this notebook, I am going to generate random numbers from scratch.\n"
      ],
      "metadata": {
        "id": "hmbtKuVwa174"
      }
    },
    {
      "cell_type": "markdown",
      "source": [
        "1.Write a well-documented function to generate random numbers from scratch without using any libraries in python?"
      ],
      "metadata": {
        "id": "sHcwKrISbGXz"
      }
    },
    {
      "cell_type": "markdown",
      "source": [
        "In this solution I have used only one python library called NumPy to generate zero array\n"
      ],
      "metadata": {
        "id": "5Fr-dyklcHyy"
      }
    },
    {
      "cell_type": "markdown",
      "source": [
        "This approach is based on fundamental arithmetic operations and we will use a method called a linear congruential generator, which was popular in the old days of pseudo-random generation."
      ],
      "metadata": {
        "id": "x65yLrhJc5UV"
      }
    },
    {
      "cell_type": "code",
      "execution_count": 92,
      "metadata": {
        "id": "Dq06vKmTueNL"
      },
      "outputs": [],
      "source": [
        "import numpy as np\n",
        "import time\n",
        "'''\n",
        "  Here we will be using linear recurrence relation\n",
        "  Xi=m*(Xi-1)+p\n",
        "  where m is the multiplier\n",
        "  p is the modulous\n",
        "  uniform random numbers can be obtained after scaling\n",
        "  Ui=Xi/p\n",
        "'''\n",
        "#Uniform random generator based on \"Linear Congruential Generator\"\n",
        "def random_gen(mult=13543,mod=(2**31)-1,seed=123456789,size=1):\n",
        "  U = np.zeros(size)#creating an array of zeros\n",
        "  t = time.perf_counter()#returns the float value of time in seconds. \n",
        "  seed = int(10**9*float(str(t-int(t))[0:]))#generates random seed value everytime we use our function\n",
        "  mult = int(10**5*float(str(t-int(t))[0:]))#generates random value everytime we use our function\n",
        "  \n",
        "#Initialize X and U\n",
        "  X = (seed*mult+1)%mod\n",
        "  U[0] = X/mod\n",
        "  for i in range(1,size):\n",
        "    X=(X*mult+1)%mod\n",
        "    U[i] = X/mod\n",
        "  return U #returns uniform random variates\n",
        "\n",
        "def generator(low=0,high=1,size=1):\n",
        "    t = time.perf_counter()\n",
        "    seed = int(10**9*float(str(t-int(t))[0:]))#generates random seed value everytime we use our function\n",
        "    mult = int(10**5*float(str(t-int(t))[0:]))#generates random value everytime we use our function\n",
        "    return low+(high-low)*random_gen(mult=mult,seed=seed,size=size)\n",
        "#returns the random numbers between the range given"
      ]
    },
    {
      "cell_type": "markdown",
      "source": [
        "2: Demonstrate that the function created generates random numbers using any statistical or visualization methods?"
      ],
      "metadata": {
        "id": "UK-bGueXfNpT"
      }
    },
    {
      "cell_type": "markdown",
      "source": [
        "Here, I have used Matplotlib for visualization of random numbers"
      ],
      "metadata": {
        "id": "rRzp8Z6VfQw_"
      }
    },
    {
      "cell_type": "code",
      "source": [
        "import matplotlib.pyplot as plt"
      ],
      "metadata": {
        "id": "2vL12nJmAr0H"
      },
      "execution_count": 82,
      "outputs": []
    },
    {
      "cell_type": "code",
      "source": [
        "l = generator(low=-4,high=7,size=1000)\n",
        "plt.hist(l,bins=20,edgecolor=\"k\")\n",
        "plt.xticks(fontsize=15)\n",
        "plt.yticks(fontsize=15)\n",
        "plt.xlim(-6,8)\n",
        "plt.show()"
      ],
      "metadata": {
        "colab": {
          "base_uri": "https://localhost:8080/",
          "height": 270
        },
        "id": "qvSwCsDiAgbD",
        "outputId": "2d4431d2-2b95-4150-acf9-815267bef321"
      },
      "execution_count": 83,
      "outputs": [
        {
          "output_type": "display_data",
          "data": {
            "text/plain": [
              "<Figure size 432x288 with 1 Axes>"
            ],
            "image/png": "[encoded data removed]"
          },
          "metadata": {
            "needs_background": "light"
          }
        }
      ]
    },
    {
      "cell_type": "markdown",
      "source": [
        "This Histogram demonstrates that the random numbers generated are uniformly distrubuted."
      ],
      "metadata": {
        "id": "B0TtJhVvfa7C"
      }
    },
    {
      "cell_type": "code",
      "source": [
        "l\n",
        "#sample of random numbers between -4 and 7"
      ],
      "metadata": {
        "colab": {
          "base_uri": "https://localhost:8080/"
        },
        "id": "O601Su1YXuaJ",
        "outputId": "4c71af09-0e71-4a22-a7cd-d32985e5bd1a"
      },
      "execution_count": 84,
      "outputs": [
        {
          "output_type": "execute_result",
          "data": {
            "text/plain": [
              "array([ 4.43347016e+00,  5.73489417e+00,  5.74204877e+00,  1.53283926e+00,\n",
              "        5.92639811e+00, -3.55824193e+00, -1.32280908e+00,  4.79333855e-01,\n",
              "       -9.08392205e-01,  3.70632410e-01,  1.03344758e+00,  5.14974552e-01,\n",
              "        6.24094007e+00, -2.25020697e-01, -1.72651111e+00,  4.65513702e+00,\n",
              "        2.68043477e+00, -2.73295535e+00,  1.65813577e+00,  1.56803611e+00,\n",
              "       -3.04091344e+00,  6.39196760e+00,  5.73538573e+00,  1.59142106e+00,\n",
              "       -9.09853836e-01,  2.29736051e+00,  2.45731818e+00,  2.68029828e+00,\n",
              "        3.31083862e+00, -3.13878981e+00,  5.40333329e+00,  4.35201990e-01,\n",
              "        2.61946453e+00,  5.37647999e+00,  4.36495160e+00,  3.75741324e+00,\n",
              "       -1.56780721e+00,  3.35251815e+00,  3.28643651e+00,  1.79621389e+00,\n",
              "       -6.77445096e-01,  4.29112592e+00, -3.92677667e+00,  3.81249197e+00,\n",
              "       -3.60392335e+00,  9.39173335e-01, -1.67702623e+00, -2.49949645e+00,\n",
              "       -2.21561100e+00, -1.05106135e+00,  9.11305254e-01, -1.59491169e+00,\n",
              "       -1.83836402e+00,  2.16417433e+00,  6.33424996e+00, -4.97212103e-02,\n",
              "        5.57313328e+00,  6.04254105e+00,  7.08096970e-01,  7.09085026e-01,\n",
              "        3.58638471e+00,  3.21527962e+00,  3.01834130e+00,  1.99106580e+00,\n",
              "        1.59020292e+00, -1.14185831e+00,  3.98305635e+00, -3.24075179e+00,\n",
              "       -9.38178865e-01, -3.21275774e+00,  3.55387910e+00, -9.60618663e-02,\n",
              "        5.89757244e+00,  5.75287057e+00, -1.51667156e+00,  1.13901815e+00,\n",
              "        5.88821778e+00, -3.92421619e+00, -2.21423880e+00,  4.77492565e+00,\n",
              "       -3.67489220e+00, -2.01064058e+00,  5.62979047e+00,  6.32186842e+00,\n",
              "        1.36434344e+00,  3.67447583e+00,  8.91724117e-01,  2.39439729e+00,\n",
              "        5.96008688e+00, -1.28542712e+00,  4.85595746e+00,  1.67119686e+00,\n",
              "        2.82935648e+00,  3.76308892e+00,  6.52179261e+00,  8.11392382e-01,\n",
              "        4.68788803e-01,  1.19023691e+00,  6.69248499e+00,  5.82257642e+00,\n",
              "       -4.27433430e-01, -3.53527493e+00, -3.36800311e+00, -1.56086346e+00,\n",
              "        2.48701469e+00,  2.99055023e+00,  4.86924163e+00,  3.27810007e-02,\n",
              "       -1.68908249e+00, -2.74197853e-01,  5.60176581e+00,  7.18304956e-01,\n",
              "       -2.62875230e+00,  1.37520535e+00,  2.08130505e+00,  2.67699409e-01,\n",
              "        3.43325476e+00, -2.08636034e+00,  6.16952348e+00,  2.56697944e+00,\n",
              "        2.59036832e+00,  4.86390001e+00,  4.07339639e+00, -9.03805695e-01,\n",
              "        1.91139327e+00,  1.60102172e+00,  6.69963786e+00,  1.55050064e+00,\n",
              "       -1.77119439e+00, -8.39356919e-01, -8.89093433e-01, -2.87164528e+00,\n",
              "        3.68838646e+00,  8.56160652e-04,  5.08804945e+00,  3.16359582e+00,\n",
              "       -3.67203063e+00,  2.89578069e+00,  6.69246427e+00,  5.07004107e+00,\n",
              "       -1.73866400e+00,  3.37164189e+00,  4.68852720e+00,  5.11104905e+00,\n",
              "        2.30207333e+00, -2.41547280e+00,  1.76730755e+00,  5.70443377e+00,\n",
              "       -3.05250195e-01,  6.01525540e-02,  2.19938762e+00, -2.03620397e+00,\n",
              "        1.39770505e+00,  5.06798256e+00,  5.14636722e-01,  4.97401862e+00,\n",
              "       -1.40979319e+00, -1.00063745e+00,  5.85344232e+00, -1.65603443e+00,\n",
              "        7.33817246e-01, -3.61991844e-01, -3.28585868e+00,  1.85363206e-01,\n",
              "        5.72337915e+00,  5.62031218e+00,  3.15542283e+00, -3.44176858e+00,\n",
              "        3.94094466e+00, -3.35836758e+00, -3.68511850e+00,  6.62264987e-01,\n",
              "       -2.49606656e+00,  1.32713010e+00,  5.42099023e+00,  3.57635192e+00,\n",
              "        1.91451442e+00,  4.93310639e+00, -1.97391390e+00, -2.78754112e+00,\n",
              "       -4.05785178e-01,  1.53440080e+00, -3.37249952e+00,  1.70025924e-01,\n",
              "       -1.18867965e+00, -2.14682362e+00, -3.12382230e-01,  5.08885558e+00,\n",
              "       -5.65085251e-01,  3.18944559e+00, -4.11565015e-02, -2.43372699e+00,\n",
              "       -1.06084738e+00, -2.42934177e+00,  4.17087200e+00, -3.46666816e+00,\n",
              "        1.81230994e+00,  7.86409806e-01,  6.32647877e+00,  3.77053855e+00,\n",
              "        2.02533119e+00,  2.80083529e+00,  2.13029609e+00, -2.81851610e+00,\n",
              "       -3.13813151e+00, -3.69316051e+00,  5.64860255e+00, -3.59290041e+00,\n",
              "        5.19331014e+00, -2.71566623e+00,  2.44355012e+00, -2.25147981e+00,\n",
              "        5.51669562e+00,  2.73458298e+00,  5.44253750e+00,  4.97932425e+00,\n",
              "        4.24279127e+00,  9.93940931e-01,  6.98915558e+00, -1.77165665e+00,\n",
              "        4.37553359e+00,  3.00017932e+00,  2.51137700e+00, -3.38981982e+00,\n",
              "       -1.74735337e+00,  6.85175835e+00,  3.19756825e+00, -2.09937640e+00,\n",
              "        6.54365624e+00,  2.70159555e+00,  6.63614400e+00,  6.02490005e+00,\n",
              "       -1.85442283e+00,  2.05250233e+00, -5.87744952e-01,  5.39303148e+00,\n",
              "        3.65984792e-01, -2.72623241e+00,  3.77513628e+00,  3.97360687e+00,\n",
              "        5.63902391e+00,  5.97199955e-01, -7.24399356e-02,  5.63349997e+00,\n",
              "       -1.98267302e+00, -1.84011717e+00,  4.50537485e+00, -1.33383822e+00,\n",
              "       -3.99948478e+00,  3.70811074e+00,  1.20898858e+00,  5.58446433e+00,\n",
              "       -5.15543092e-01, -1.88520695e+00,  6.25051187e+00,  6.33638976e+00,\n",
              "        6.48531094e-01,  4.81255532e+00, -1.30374137e+00, -1.52801651e-01,\n",
              "        2.61926335e+00, -1.92865559e+00,  1.58692596e+00,  8.68650238e-01,\n",
              "        5.58807788e-01,  2.86958084e+00,  1.34976890e+00,  2.45835917e+00,\n",
              "       -3.52014477e+00, -3.97683397e+00,  1.18182370e+00, -1.79948366e+00,\n",
              "        5.94876922e+00,  5.75921968e+00, -1.97432262e+00,  4.37136805e+00,\n",
              "        5.74522309e+00,  6.79555096e+00, -2.74898922e+00,  2.45225892e+00,\n",
              "        5.97369637e+00, -2.11093507e+00,  4.83649914e+00, -8.79708510e-01,\n",
              "       -3.09570066e+00, -2.98657467e+00, -5.12971387e-01,  3.49594909e+00,\n",
              "       -2.59270324e+00,  1.35260881e+00,  6.57839401e+00, -9.34950669e-01,\n",
              "        4.00624829e+00,  2.88183410e+00,  6.27802004e+00,  4.18552977e+00,\n",
              "        7.71307585e-01, -3.05027420e+00, -3.50663909e+00,  2.42791350e+00,\n",
              "        1.96710560e+00,  5.71358379e-01, -3.40590822e+00, -2.93351789e+00,\n",
              "        1.03184476e+00, -2.68487470e+00, -1.48532479e+00,  6.37143210e+00,\n",
              "       -2.92894454e+00,  2.09478473e+00,  5.72833678e+00, -1.36322468e+00,\n",
              "        6.94872039e+00,  3.98611341e+00, -2.23583527e+00,  1.58547233e+00,\n",
              "        3.08571637e+00,  6.44704589e+00,  3.68327403e+00,  1.36325523e+00,\n",
              "       -2.83921009e+00,  4.44229812e+00, -3.71313036e+00,  6.52350277e+00,\n",
              "       -3.09104930e+00,  9.08881584e-01, -1.60081520e+00,  3.79935513e+00,\n",
              "        3.38426374e+00,  1.00059914e+00,  6.75555258e+00, -3.13013232e+00,\n",
              "        7.65212596e-01,  6.63458370e+00,  4.36880844e+00,  8.03201005e-01,\n",
              "        3.17011587e-02,  3.10077527e+00,  3.25065402e+00,  4.98170870e-01,\n",
              "        1.08244812e+00, -2.22640642e+00,  2.95650918e+00,  8.04999753e-01,\n",
              "       -6.53958777e-01, -8.97161455e-01,  1.17039619e+00,  1.25613057e+00,\n",
              "        1.35725288e+00, -7.90820467e-01,  1.51801593e+00,  6.67632331e+00,\n",
              "        1.97556891e+00, -1.17456878e-01, -9.76701573e-01,  5.98918308e+00,\n",
              "       -7.73033135e-01, -1.60614804e+00, -2.84160622e+00,  5.43667516e+00,\n",
              "        1.11188439e+00, -3.65997212e-01,  5.27524552e+00,  2.43992269e+00,\n",
              "       -1.96730011e+00,  6.36572213e+00, -1.26359420e+00,  5.63112122e+00,\n",
              "       -3.57401283e-01, -1.59797586e+00, -3.10144145e+00, -2.44054162e+00,\n",
              "        4.49321544e+00, -2.85429085e+00,  6.84486376e+00,  5.84806473e+00,\n",
              "        1.07833879e+00,  2.55993134e+00, -3.33030281e-01,  3.33747343e+00,\n",
              "        6.99784825e+00,  5.86782161e+00,  3.47032874e+00,  2.10676208e+00,\n",
              "        6.37972786e-01,  6.42982964e+00,  5.54419507e+00,  2.67345665e-01,\n",
              "        1.58844717e+00,  1.10504280e+00,  4.20898847e+00,  5.58032172e+00,\n",
              "        3.06201383e+00,  3.78430266e+00,  6.81389321e+00,  3.27623199e+00,\n",
              "        5.25996976e+00, -2.23796541e+00,  1.23800640e+00,  3.25039241e+00,\n",
              "        1.99885349e+00, -1.63096728e+00, -2.05291097e+00, -2.50319219e-01,\n",
              "        3.65882761e+00,  4.68921708e+00, -2.83878621e+00, -2.16625216e+00,\n",
              "       -1.78209927e+00, -8.06497336e-01,  4.27523943e+00,  2.21879166e+00,\n",
              "       -1.45591453e+00, -3.71245478e+00, -1.94563025e+00,  1.21992434e+00,\n",
              "        6.67278199e+00,  5.38688081e+00, -2.97092183e+00,  6.85730305e+00,\n",
              "        6.53109255e+00, -2.49850434e+00,  8.08996643e-01,  1.47711547e+00,\n",
              "        6.53980487e+00,  5.85463633e+00, -2.30006593e+00,  1.30617974e+00,\n",
              "        3.69237525e+00,  1.83787247e+00,  4.98743408e+00,  1.71902615e+00,\n",
              "        1.55856833e+00,  5.17448848e+00,  6.85129214e+00, -2.73094331e+00,\n",
              "       -2.28251065e+00,  7.55702946e-01,  2.32966334e+00, -1.59450632e+00,\n",
              "        1.88090015e+00,  5.36540136e+00, -1.91132173e+00,  3.99681975e+00,\n",
              "        1.52177094e+00,  2.47185105e-02,  2.55383347e+00, -1.75288750e+00,\n",
              "        3.90194153e+00, -6.01260150e-01, -1.35729451e+00,  2.27910468e+00,\n",
              "       -4.29983134e-01,  2.88241712e+00,  5.44795923e+00,  3.84748306e+00,\n",
              "        1.95735008e+00, -1.66131705e+00,  6.91672186e+00, -2.91266323e+00,\n",
              "       -7.14668918e-01,  5.65690877e+00,  1.01437883e+00,  1.10953909e+00,\n",
              "        2.47382121e+00, -3.07818025e+00,  6.19688127e+00,  5.95586725e+00,\n",
              "       -5.04303470e-01, -7.63300004e-01, -1.86456313e-01,  1.58480256e+00,\n",
              "        7.65581605e-01, -1.96634391e+00, -2.91368045e+00,  6.34934844e+00,\n",
              "       -1.80874451e+00, -3.22006998e-01, -3.39611410e+00,  7.00815079e-01,\n",
              "        2.96321341e-01, -2.27580478e+00,  2.25278247e+00,  7.84089396e-01,\n",
              "       -9.29953609e-01, -1.54549984e+00, -6.44726739e-01,  4.32739347e+00,\n",
              "        3.98423913e+00,  6.70714391e+00, -8.97412979e-01,  3.03730276e+00,\n",
              "       -2.49934785e+00,  3.18010096e+00,  1.64612074e+00,  5.29003564e+00,\n",
              "        4.84192573e-01, -4.83490523e-01,  6.97562987e+00,  2.09616984e+00,\n",
              "        1.02321691e+00,  3.02922647e+00,  1.24249785e+00,  1.33945997e+00,\n",
              "        2.13098106e+00,  5.30935326e-02, -1.12073809e+00,  8.79076126e-01,\n",
              "        5.13319338e+00,  3.38498285e+00,  5.11242275e+00, -2.81744317e+00,\n",
              "        2.82091763e+00,  5.34002981e+00,  8.22473736e-01,  6.84382542e+00,\n",
              "        1.14466714e+00,  2.00859819e+00,  2.08700928e-01,  6.13937981e+00,\n",
              "       -2.97969705e+00, -3.77966896e+00, -5.59696619e-01,  8.56077366e-01,\n",
              "        6.02521905e+00, -1.27121863e+00,  3.78050677e+00,  9.81444718e-01,\n",
              "        4.23916647e+00,  1.37372201e+00,  3.21978677e+00,  1.67748322e+00,\n",
              "        9.32679284e-02,  5.65174765e+00,  6.09082396e-01,  2.39089662e+00,\n",
              "       -1.52731711e-01,  5.15883767e+00, -4.45328315e-01,  6.68355418e+00,\n",
              "        5.36009411e-01,  3.77268740e-02,  1.90052237e+00,  2.86777145e+00,\n",
              "        1.64911743e+00,  4.10300230e+00, -3.88361748e+00, -2.03449376e+00,\n",
              "       -2.50287669e+00, -3.95531757e+00,  1.46380479e+00, -3.78430286e+00,\n",
              "       -3.82109627e+00,  2.17327980e+00,  6.96287098e+00,  8.07990419e-01,\n",
              "       -2.05990812e+00, -1.32362657e+00,  3.79547825e+00,  5.61067794e+00,\n",
              "        5.32673457e+00,  2.05914062e+00, -1.54486810e+00,  2.94395914e-01,\n",
              "        4.81001536e+00,  5.46771297e+00,  6.12583012e+00,  1.74873243e-02,\n",
              "        3.98223327e+00, -1.27713822e-01,  5.83396527e-01,  4.71130122e+00,\n",
              "       -3.94150272e+00, -2.90535374e+00,  7.00421268e-01, -3.00333834e+00,\n",
              "        6.78152879e+00,  5.09202584e+00,  4.55031849e+00,  2.61477635e+00,\n",
              "        1.43906418e-01, -3.61404506e+00, -3.59027729e+00,  1.44148295e+00,\n",
              "       -3.12679552e-01,  5.29278178e+00,  1.19903284e+00, -3.91856562e+00,\n",
              "        4.96361403e+00,  5.78900200e+00,  1.45152985e+00,  1.50031560e+00,\n",
              "        1.95961060e+00,  3.42064899e+00,  2.18540569e+00, -3.73401299e+00,\n",
              "       -3.74570169e+00,  8.26032743e-01,  4.07493989e+00,  1.42222650e-01,\n",
              "        1.24664233e+00, -2.17039481e+00,  1.79396970e+00,  5.83372660e+00,\n",
              "       -2.55355537e+00,  3.85078720e+00,  9.33916453e-01,  5.44031674e+00,\n",
              "        1.34123660e+00,  6.42195153e-01,  5.74821327e+00,  5.37193211e+00,\n",
              "        4.22677826e+00,  2.54524931e+00,  5.54756415e+00,  1.60195535e+00,\n",
              "       -3.39944423e+00,  7.80696591e-01, -3.12609165e+00,  4.48598523e+00,\n",
              "       -1.39036603e+00,  4.19232952e-01,  5.76772509e+00, -1.13425982e+00,\n",
              "        4.89160665e+00, -1.87109132e+00,  1.80315969e+00, -1.46836460e+00,\n",
              "        6.21318413e+00,  3.92908013e+00,  5.82853402e+00,  6.89895353e+00,\n",
              "        9.01727800e-01,  2.63815349e+00,  1.99150980e+00,  6.71242660e+00,\n",
              "        3.92210034e+00,  5.38556338e+00,  4.19174861e+00,  6.58380629e+00,\n",
              "       -2.40976645e+00, -2.95411865e-02,  1.32997568e+00, -1.25307857e+00,\n",
              "        2.46395142e+00,  1.53997016e+00,  8.56404218e-01,  6.89355343e+00,\n",
              "        2.81865345e+00,  1.25449415e-01, -2.80629596e+00,  5.87476629e-01,\n",
              "       -1.13613743e+00,  2.71368915e+00,  5.76656221e+00,  6.40434653e-01,\n",
              "       -3.17730290e+00,  3.95438653e+00,  7.29441456e-01,  5.74870537e+00,\n",
              "        1.24083386e+00,  6.91845965e+00,  5.18852355e+00, -5.21387771e-01,\n",
              "        5.88866360e+00,  1.26384968e+00,  6.64561101e+00, -2.21877310e+00,\n",
              "        5.12982478e+00,  2.06748470e+00,  4.43709942e+00,  5.51692865e+00,\n",
              "        1.96234828e-01,  4.48285470e+00,  5.93699265e+00, -3.85997435e+00,\n",
              "       -1.52854736e+00, -1.08308302e+00,  4.17238966e+00, -3.35917007e+00,\n",
              "        1.75618955e-01,  3.89989250e+00,  1.99650312e+00,  1.02471619e+00,\n",
              "        2.46956087e+00, -3.77515805e+00, -1.76403445e+00,  6.14524026e+00,\n",
              "        8.18924697e-01, -1.02534299e+00, -2.29147713e-01,  2.41740028e+00,\n",
              "        5.22150701e+00, -1.85914031e+00,  6.75603795e+00,  3.49400015e+00,\n",
              "        3.63940032e+00,  3.26488279e+00,  1.59073984e-01, -2.86455519e+00,\n",
              "       -2.86342877e+00,  5.03777908e+00,  3.79609782e+00,  6.10787672e+00,\n",
              "       -2.88848926e+00, -2.93369934e+00,  5.44334752e+00,  1.39181330e+00,\n",
              "        1.32745992e-01, -1.86028490e+00, -1.80507980e+00,  7.47484165e-01,\n",
              "        8.97502995e-01,  3.23123630e+00, -5.78724945e-01,  2.91851363e+00,\n",
              "       -3.85158058e+00,  6.25738467e+00,  2.89467099e+00, -6.01842235e-01,\n",
              "       -4.93382628e-01, -2.16599488e-01, -3.94401842e+00,  4.74697244e+00,\n",
              "        4.31617315e+00,  3.56316096e+00,  6.93766542e+00, -1.43086348e+00,\n",
              "        3.91604904e+00,  5.65677176e+00, -3.96061268e+00, -3.80711815e+00,\n",
              "        3.73289462e+00, -8.63629435e-01, -2.24841884e+00,  6.66352624e+00,\n",
              "       -6.98644493e-01,  4.51981103e+00,  5.85837027e+00,  1.28296028e+00,\n",
              "       -3.42937522e+00,  2.95634223e+00,  5.74286807e+00, -1.71746294e+00,\n",
              "        3.20321912e+00,  5.08945013e+00, -9.76285552e-01, -9.04683361e-01,\n",
              "        3.04246961e+00, -1.88592313e+00,  2.24507734e+00, -3.99668866e+00,\n",
              "        6.23807521e+00,  5.74877732e+00,  3.85331819e+00,  4.83678505e+00,\n",
              "       -1.49821733e+00,  2.30459815e-01,  4.22635933e+00, -1.66652935e+00,\n",
              "        4.65277842e+00,  5.03722444e+00,  5.65675635e+00,  6.47991467e+00,\n",
              "       -1.81853227e+00, -3.72533431e+00,  3.38601050e+00, -1.57290900e+00,\n",
              "        5.10141462e+00,  4.46613127e+00,  3.69266874e+00,  1.49463610e+00,\n",
              "        4.73144459e+00,  1.48454619e+00,  1.35665029e+00, -6.71260165e-01,\n",
              "       -2.12784759e+00,  6.72617361e+00, -2.91018861e+00,  1.14151183e+00,\n",
              "       -2.56407245e+00,  6.96532044e+00,  1.75056423e+00,  2.73770569e+00,\n",
              "       -2.16883538e+00,  3.41862817e+00,  5.80744286e+00,  5.75248273e-02,\n",
              "        5.78400539e+00, -3.98016847e+00,  1.10267958e+00,  6.39819674e+00,\n",
              "        9.21734184e-01,  3.08995488e+00,  6.35149943e+00, -7.04093358e-01,\n",
              "        4.66606526e+00,  3.49571192e+00, -2.04452973e-01, -2.89190094e+00,\n",
              "        5.18495742e+00,  1.98877886e+00,  6.54906120e+00,  9.61179060e-01,\n",
              "        5.37286138e+00,  4.96960050e+00,  3.16384220e+00,  5.27395193e+00,\n",
              "       -5.31414627e-01,  4.80346648e+00, -1.32862295e+00, -1.62785030e+00,\n",
              "        1.12777385e+00,  4.59631150e+00,  6.66863519e-01, -5.18775677e-01,\n",
              "        1.73638940e+00,  5.03532884e+00,  2.82543878e+00,  4.50749578e+00,\n",
              "       -1.32060512e+00,  3.50754424e+00,  4.38737522e-01, -1.00183561e+00,\n",
              "        6.34700394e+00,  1.06008911e+00, -1.04362086e-01,  1.50827923e+00,\n",
              "        5.12699313e+00, -1.75235437e+00,  1.26029042e+00, -1.59461722e+00,\n",
              "       -2.14570338e+00, -3.63529823e+00,  5.68601939e+00,  2.05016245e+00,\n",
              "        2.44867007e+00, -3.34102437e+00, -9.35784027e-01,  6.74618050e+00,\n",
              "       -2.43997373e+00,  3.11391170e+00, -3.75241266e+00, -8.56111699e-01,\n",
              "        6.72810789e+00,  1.32576243e+00, -2.40391279e-01,  1.15227726e+00,\n",
              "        3.33972888e+00,  8.95493342e-01, -3.74125766e+00, -2.80684046e+00,\n",
              "        2.81621906e+00, -2.69555418e-01, -1.82678104e+00,  4.75350523e+00,\n",
              "       -4.71700902e-01,  6.06855290e+00, -7.75778366e-01, -2.28825321e+00,\n",
              "        1.23775375e+00,  5.07656610e+00,  4.19167969e+00,  4.08105896e+00,\n",
              "        2.33172675e+00, -3.66980992e+00,  6.53182239e+00,  2.00279258e+00,\n",
              "       -1.59847346e+00,  8.30270262e-01,  3.94349642e+00,  1.29833833e+00,\n",
              "        4.96320296e+00,  1.86272551e+00,  5.42593317e+00, -3.94061830e+00,\n",
              "       -3.79110281e+00,  2.26584193e+00,  1.98626339e+00,  3.20994314e+00,\n",
              "       -3.75467642e+00,  4.94437349e+00,  1.45855669e-01,  1.16519707e+00,\n",
              "       -5.29247992e-01,  6.47614605e+00,  4.33925607e+00,  5.72721745e+00,\n",
              "        1.99298441e+00,  5.25682357e+00,  4.52080686e+00, -1.98198979e+00,\n",
              "        9.68812181e-01, -3.46089083e+00,  2.59297849e+00,  6.42063721e-01,\n",
              "        9.75770202e-01, -3.80821250e+00, -3.00417118e+00, -1.45956752e+00,\n",
              "        6.64361038e+00,  2.13645595e+00,  8.51879375e-01, -3.40801486e+00,\n",
              "       -2.42763923e+00, -8.14408996e-03, -2.72005038e+00, -2.74948233e+00,\n",
              "        6.54727415e+00,  2.07183734e+00, -2.51448073e+00,  3.69016853e+00,\n",
              "       -1.29040316e+00,  1.70842655e-01,  6.46764871e+00,  3.79232123e+00,\n",
              "        9.76257002e-01,  2.86799854e+00, -1.10498480e+00,  8.96896492e-01,\n",
              "        3.20851051e+00, -7.75031216e-01,  2.84152047e+00,  5.44982099e+00,\n",
              "        5.45011834e+00,  5.24712212e+00,  4.25130758e+00,  2.22942888e+00,\n",
              "       -2.07937461e-01,  2.58283835e+00,  6.44340346e+00,  3.42304666e+00,\n",
              "        1.24738509e+00,  2.80016723e+00, -1.27530378e-01, -3.75556822e+00,\n",
              "        5.56228991e+00, -2.69098665e+00, -3.41611000e+00,  6.29931246e-01,\n",
              "        4.33464730e-01,  5.53780721e+00, -6.82426661e-01, -5.94491382e-01,\n",
              "        2.42343036e+00,  4.17972176e+00, -1.12309841e+00,  3.17374350e+00,\n",
              "        1.80022812e+00,  2.08340787e+00, -3.76745449e-01, -3.98495188e-03,\n",
              "        5.30241223e+00, -1.10954314e+00,  3.78921571e-01,  5.02117781e+00,\n",
              "        5.98738022e+00, -2.36913096e-01,  6.44857825e+00,  4.32494947e+00,\n",
              "        3.24012188e+00,  3.06550713e+00, -1.37071140e+00, -9.01793236e-01,\n",
              "       -2.01418757e+00, -2.16479397e+00, -3.83400193e+00,  6.55597458e+00,\n",
              "       -1.00690214e+00, -1.62371072e+00, -2.55989205e+00,  4.75966188e+00,\n",
              "        3.08244776e+00, -2.23927388e+00, -2.27401808e+00,  1.12947654e+00,\n",
              "        4.22503263e-01,  3.51598116e+00, -1.20795146e+00,  2.07471720e+00,\n",
              "        3.05631431e+00,  5.82889660e+00, -1.93558367e+00,  3.02138781e+00,\n",
              "        2.61264683e+00, -1.80868133e-01,  6.49723754e+00,  1.92216461e-01,\n",
              "        1.57190385e+00,  5.40067146e+00,  2.78146574e+00,  2.80249629e+00,\n",
              "       -3.55713862e+00,  5.73974778e+00,  5.98151354e+00,  6.73810937e+00,\n",
              "        1.48916884e+00,  4.20960515e+00,  5.97261938e+00,  2.78214985e+00])"
            ]
          },
          "metadata": {},
          "execution_count": 84
        }
      ]
    },
    {
      "cell_type": "markdown",
      "source": [
        "Lets visualize the random numbers generated more clearly using the scatterplot"
      ],
      "metadata": {
        "id": "Zo1jtOk7fzNT"
      }
    },
    {
      "cell_type": "code",
      "source": [
        "\n",
        "x=list(range(1000))\n",
        "y=l\n",
        "plt.scatter(x,y)"
      ],
      "metadata": {
        "colab": {
          "base_uri": "https://localhost:8080/",
          "height": 282
        },
        "id": "ZT1FsE-LCR4B",
        "outputId": "5ec99a82-c8f2-4b6d-dcbf-46f8fa2bac37"
      },
      "execution_count": 85,
      "outputs": [
        {
          "output_type": "execute_result",
          "data": {
            "text/plain": [
              "<matplotlib.collections.PathCollection at 0x7ff8a2b7db50>"
            ]
          },
          "metadata": {},
          "execution_count": 85
        },
        {
          "output_type": "display_data",
          "data": {
            "text/plain": [
              "<Figure size 432x288 with 1 Axes>"
            ],
            "image/png": "[encoded data removed]"
          },
          "metadata": {
            "needs_background": "light"
          }
        }
      ]
    },
    {
      "cell_type": "markdown",
      "source": [
        "Scatter plot of 1000 random numbers between -4 and 7."
      ],
      "metadata": {
        "id": "CGtd9OTYf-yp"
      }
    },
    {
      "cell_type": "markdown",
      "source": [
        "3: predict the value of pi using the generated number?"
      ],
      "metadata": {
        "id": "1pxrxO9mgF7I"
      }
    },
    {
      "cell_type": "code",
      "source": [
        "'''\n",
        "For computing value of pi, We use monte carlo method which works perfectly when number of random numbers generated is high.\n",
        "\n",
        "\n",
        "\n",
        "Make a unit circle enclosed within square touching its boundaries.\n",
        "Randomly plot points inside the square.\n",
        "Count the number of points that lie inside the circle and total number of points\n",
        "calculation of Pi:\n",
        "\n",
        "since we know the empirical probability we will use it to find value of pi\n",
        "\n",
        "ie. n/N = Pi/4\n",
        "where n=number of points that lie inside the circle\n",
        "N= total number of points\n",
        "'''"
      ],
      "metadata": {
        "colab": {
          "base_uri": "https://localhost:8080/",
          "height": 70
        },
        "id": "eusBV4UFgOAd",
        "outputId": "f1d79de7-0636-4522-f7b3-d7afd389d819"
      },
      "execution_count": 93,
      "outputs": [
        {
          "output_type": "execute_result",
          "data": {
            "text/plain": [
              "'\\nFor computing value of pi, We use monte carlo method which works perfectly when number of random numbers generated is high.\\n\\n\\n\\nMake a unit circle enclosed within square touching its boundaries.\\nRandomly plot points inside the square.\\nCount the number of points that lie inside the circle and total number of points\\ncalculation of Pi:\\n\\nsince we know the empirical probability we will use it to find value of pi\\n\\nie. n/N = Pi/4\\nwhere n=number of points that lie inside the circle\\nN= total number of points\\n'"
            ],
            "application/vnd.google.colaboratory.intrinsic+json": {
              "type": "string"
            }
          },
          "metadata": {},
          "execution_count": 93
        }
      ]
    },
    {
      "cell_type": "markdown",
      "source": [
        "![estimate-pi-using-random-numbers.jpg](data:image/jpeg;base64,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)"
      ],
      "metadata": {
        "id": "WdDWLhEDmpzP"
      }
    },
    {
      "cell_type": "code",
      "source": [
        "import math\n",
        "def compute_pi():\n",
        "  total_points=0\n",
        "  within_circle = 0\n",
        "  for i in range (10000):\n",
        "        x = random_gen()\n",
        "        y = random_gen()\n",
        "        total_points += 1\n",
        "        distance = math.sqrt(x**2+y**2)\n",
        "        if distance < 1:\n",
        "            within_circle += 1\n",
        "        if total_points % 10000 == 0:\n",
        "            pi_estimate = 4 * within_circle / total_points\n",
        "            yield pi_estimate"
      ],
      "metadata": {
        "id": "5U2bBr4fBB4A"
      },
      "execution_count": 94,
      "outputs": []
    },
    {
      "cell_type": "code",
      "source": [
        "pi_value = list(i for i in compute_pi())\n",
        "print(pi_value)"
      ],
      "metadata": {
        "colab": {
          "base_uri": "https://localhost:8080/"
        },
        "id": "3a_qPTkGQNwO",
        "outputId": "f87e3cce-ed72-42ca-fca7-1423dec3d682"
      },
      "execution_count": 95,
      "outputs": [
        {
          "output_type": "stream",
          "name": "stdout",
          "text": [
            "[3.172]\n"
          ]
        }
      ]
    },
    {
      "cell_type": "code",
      "source": [
        ""
      ],
      "metadata": {
        "id": "jjC7EKS-bPBJ"
      },
      "execution_count": null,
      "outputs": []
    }
  ]
}